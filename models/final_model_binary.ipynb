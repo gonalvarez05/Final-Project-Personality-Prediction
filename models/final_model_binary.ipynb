{
 "cells": [
  {
   "cell_type": "code",
   "execution_count": 1,
   "metadata": {},
   "outputs": [],
   "source": [
    "import pandas as pd\n",
    "from sklearn.model_selection import train_test_split\n",
    "import tensorflow as tf\n",
    "import tensorflow_hub as hub\n",
    "import tensorflow_text\n",
    "import numpy as np"
   ]
  },
  {
   "cell_type": "code",
   "execution_count": 2,
   "metadata": {},
   "outputs": [],
   "source": [
    "mbti= pd.read_csv('./final_project/mbti_changed.csv')"
   ]
  },
  {
   "cell_type": "markdown",
   "metadata": {},
   "source": [
    "#### Binary prediction "
   ]
  },
  {
   "cell_type": "markdown",
   "metadata": {},
   "source": [
    "- Introvert: 1 - Extrovert: 0\n",
    "- Intuition:1 - Sensing: 0\n",
    "- Thinking: 1 - Sensing: 0\n",
    "- Judging 1 - Perceiving: 0"
   ]
  },
  {
   "cell_type": "code",
   "execution_count": 3,
   "metadata": {},
   "outputs": [],
   "source": [
    "def introvert(personality):\n",
    "    \n",
    "    if 'I' in personality:\n",
    "        return 1\n",
    "    else:\n",
    "        return 0\n",
    "mbti['introv_extrov']= mbti.apply(lambda x: introvert(x['type']), axis=1)\n",
    "\n",
    "def intuition(personality):\n",
    "    \n",
    "    if 'N' in personality:\n",
    "        return 1\n",
    "    else:\n",
    "        return 0\n",
    "mbti['intuit_sensin']= mbti.apply(lambda x: intuition(x['type']), axis=1)\n",
    "\n",
    "def thinking(personality):\n",
    "    \n",
    "    if 'T' in personality:\n",
    "        return 1\n",
    "    else:\n",
    "        return 0\n",
    "mbti['thinkin_feelin']= mbti.apply(lambda x: thinking(x['type']), axis=1)\n",
    "\n",
    "def judging(personality):\n",
    "    \n",
    "    if 'J' in personality:\n",
    "        return 1\n",
    "    else:\n",
    "        return 0\n",
    "mbti['judg_percev']= mbti.apply(lambda x: judging(x['type']), axis=1)\n"
   ]
  },
  {
   "cell_type": "code",
   "execution_count": 4,
   "metadata": {},
   "outputs": [
    {
     "data": {
      "text/html": [
       "<div>\n",
       "<style scoped>\n",
       "    .dataframe tbody tr th:only-of-type {\n",
       "        vertical-align: middle;\n",
       "    }\n",
       "\n",
       "    .dataframe tbody tr th {\n",
       "        vertical-align: top;\n",
       "    }\n",
       "\n",
       "    .dataframe thead th {\n",
       "        text-align: right;\n",
       "    }\n",
       "</style>\n",
       "<table border=\"1\" class=\"dataframe\">\n",
       "  <thead>\n",
       "    <tr style=\"text-align: right;\">\n",
       "      <th></th>\n",
       "      <th>type</th>\n",
       "      <th>posts</th>\n",
       "      <th>type_index</th>\n",
       "      <th>cleaned_text</th>\n",
       "      <th>introv_extrov</th>\n",
       "      <th>intuit_sensin</th>\n",
       "      <th>thinkin_feelin</th>\n",
       "      <th>judg_percev</th>\n",
       "    </tr>\n",
       "  </thead>\n",
       "  <tbody>\n",
       "    <tr>\n",
       "      <th>0</th>\n",
       "      <td>INFJ</td>\n",
       "      <td>'http://www.youtube.com/watch?v=qsXHcwe3krw|||...</td>\n",
       "      <td>8</td>\n",
       "      <td>enfp  and  intj  moments  sportscenter  not  t...</td>\n",
       "      <td>1</td>\n",
       "      <td>1</td>\n",
       "      <td>0</td>\n",
       "      <td>1</td>\n",
       "    </tr>\n",
       "    <tr>\n",
       "      <th>1</th>\n",
       "      <td>ENTP</td>\n",
       "      <td>'I'm finding the lack of me in these posts ver...</td>\n",
       "      <td>3</td>\n",
       "      <td>im  finding  the  lack  of  me  in  these  pos...</td>\n",
       "      <td>0</td>\n",
       "      <td>1</td>\n",
       "      <td>1</td>\n",
       "      <td>0</td>\n",
       "    </tr>\n",
       "    <tr>\n",
       "      <th>2</th>\n",
       "      <td>INTP</td>\n",
       "      <td>'Good one  _____   https://www.youtube.com/wat...</td>\n",
       "      <td>11</td>\n",
       "      <td>good  one    of  course  to  which  i  say  i ...</td>\n",
       "      <td>1</td>\n",
       "      <td>1</td>\n",
       "      <td>1</td>\n",
       "      <td>0</td>\n",
       "    </tr>\n",
       "    <tr>\n",
       "      <th>3</th>\n",
       "      <td>INTJ</td>\n",
       "      <td>'Dear INTP,   I enjoyed our conversation the o...</td>\n",
       "      <td>10</td>\n",
       "      <td>dear  intp  i  enjoyed  our  conversation  the...</td>\n",
       "      <td>1</td>\n",
       "      <td>1</td>\n",
       "      <td>1</td>\n",
       "      <td>1</td>\n",
       "    </tr>\n",
       "    <tr>\n",
       "      <th>4</th>\n",
       "      <td>ENTJ</td>\n",
       "      <td>'You're fired.|||That's another silly misconce...</td>\n",
       "      <td>2</td>\n",
       "      <td>youre  fired  thats  another  silly  misconcep...</td>\n",
       "      <td>0</td>\n",
       "      <td>1</td>\n",
       "      <td>1</td>\n",
       "      <td>1</td>\n",
       "    </tr>\n",
       "  </tbody>\n",
       "</table>\n",
       "</div>"
      ],
      "text/plain": [
       "   type                                              posts  type_index  \\\n",
       "0  INFJ  'http://www.youtube.com/watch?v=qsXHcwe3krw|||...           8   \n",
       "1  ENTP  'I'm finding the lack of me in these posts ver...           3   \n",
       "2  INTP  'Good one  _____   https://www.youtube.com/wat...          11   \n",
       "3  INTJ  'Dear INTP,   I enjoyed our conversation the o...          10   \n",
       "4  ENTJ  'You're fired.|||That's another silly misconce...           2   \n",
       "\n",
       "                                        cleaned_text  introv_extrov  \\\n",
       "0  enfp  and  intj  moments  sportscenter  not  t...              1   \n",
       "1  im  finding  the  lack  of  me  in  these  pos...              0   \n",
       "2  good  one    of  course  to  which  i  say  i ...              1   \n",
       "3  dear  intp  i  enjoyed  our  conversation  the...              1   \n",
       "4  youre  fired  thats  another  silly  misconcep...              0   \n",
       "\n",
       "   intuit_sensin  thinkin_feelin  judg_percev  \n",
       "0              1               0            1  \n",
       "1              1               1            0  \n",
       "2              1               1            0  \n",
       "3              1               1            1  \n",
       "4              1               1            1  "
      ]
     },
     "execution_count": 4,
     "metadata": {},
     "output_type": "execute_result"
    }
   ],
   "source": [
    "mbti.head()"
   ]
  },
  {
   "cell_type": "code",
   "execution_count": 5,
   "metadata": {},
   "outputs": [
    {
     "name": "stdout",
     "output_type": "stream",
     "text": [
      "(4879, 8)\n",
      "(1627, 8)\n",
      "(2169, 8)\n"
     ]
    }
   ],
   "source": [
    "train,test= train_test_split(mbti)\n",
    "train,val= train_test_split(train)\n",
    "\n",
    "print(train.shape)\n",
    "print(val.shape)\n",
    "print(test.shape)"
   ]
  },
  {
   "cell_type": "code",
   "execution_count": 6,
   "metadata": {},
   "outputs": [],
   "source": [
    "embed= hub.load(\"https://tfhub.dev/google/nnlm-en-dim50/2\")\n",
    "hub_layer=hub.KerasLayer(embed, input_shape=[], dtype=tf.string, trainable=True)"
   ]
  },
  {
   "cell_type": "code",
   "execution_count": 7,
   "metadata": {},
   "outputs": [
    {
     "name": "stdout",
     "output_type": "stream",
     "text": [
      "Model: \"sequential\"\n",
      "_________________________________________________________________\n",
      "Layer (type)                 Output Shape              Param #   \n",
      "=================================================================\n",
      "keras_layer (KerasLayer)     (None, 50)                48190600  \n",
      "_________________________________________________________________\n",
      "dense (Dense)                (None, 16)                816       \n",
      "_________________________________________________________________\n",
      "dense_1 (Dense)              (None, 1)                 17        \n",
      "=================================================================\n",
      "Total params: 48,191,433\n",
      "Trainable params: 48,191,433\n",
      "Non-trainable params: 0\n",
      "_________________________________________________________________\n"
     ]
    }
   ],
   "source": [
    "model=tf.keras.Sequential()\n",
    "model.add(hub_layer)\n",
    "model.add(tf.keras.layers.Dense(16, activation='softmax'))\n",
    "model.add(tf.keras.layers.Dense(1))\n",
    "model.summary()"
   ]
  },
  {
   "cell_type": "code",
   "execution_count": 8,
   "metadata": {},
   "outputs": [],
   "source": [
    "model.compile(optimizer='adam', \n",
    "             loss= tf.keras.losses.BinaryCrossentropy(from_logits=True),\n",
    "             metrics=tf.metrics.BinaryAccuracy())"
   ]
  },
  {
   "cell_type": "markdown",
   "metadata": {},
   "source": [
    "#### Introvertion vs Extrovertion"
   ]
  },
  {
   "cell_type": "code",
   "execution_count": 9,
   "metadata": {},
   "outputs": [],
   "source": [
    "intro_extr= np.array(train['introv_extrov'])\n",
    "intro_extr_val= np.array(val['introv_extrov'])"
   ]
  },
  {
   "cell_type": "code",
   "execution_count": 10,
   "metadata": {},
   "outputs": [],
   "source": [
    "train_array= np.array(train['cleaned_text'])\n",
    "val_array= np.array(val['cleaned_text'])"
   ]
  },
  {
   "cell_type": "code",
   "execution_count": 11,
   "metadata": {},
   "outputs": [
    {
     "name": "stdout",
     "output_type": "stream",
     "text": [
      "Epoch 1/10\n",
      "153/153 [==============================] - 82s 536ms/step - loss: 0.6081 - binary_accuracy: 0.5380 - val_loss: 0.5646 - val_binary_accuracy: 0.7634\n",
      "Epoch 2/10\n",
      "153/153 [==============================] - 82s 535ms/step - loss: 0.5591 - binary_accuracy: 0.7682 - val_loss: 0.5512 - val_binary_accuracy: 0.7658\n",
      "Epoch 3/10\n",
      "153/153 [==============================] - 80s 521ms/step - loss: 0.5453 - binary_accuracy: 0.7709 - val_loss: 0.5461 - val_binary_accuracy: 0.7671\n",
      "Epoch 4/10\n",
      "153/153 [==============================] - 79s 518ms/step - loss: 0.5414 - binary_accuracy: 0.7701 - val_loss: 0.5445 - val_binary_accuracy: 0.7664\n",
      "Epoch 5/10\n",
      "153/153 [==============================] - 79s 519ms/step - loss: 0.5397 - binary_accuracy: 0.7677 - val_loss: 0.5141 - val_binary_accuracy: 0.7757\n",
      "Epoch 6/10\n",
      "153/153 [==============================] - 80s 522ms/step - loss: 0.4641 - binary_accuracy: 0.8586 - val_loss: 0.4337 - val_binary_accuracy: 0.8537\n",
      "Epoch 7/10\n",
      "153/153 [==============================] - 80s 521ms/step - loss: 0.3525 - binary_accuracy: 0.9520 - val_loss: 0.4255 - val_binary_accuracy: 0.7923\n",
      "Epoch 8/10\n",
      "153/153 [==============================] - 80s 520ms/step - loss: 0.2762 - binary_accuracy: 0.9786 - val_loss: 0.3802 - val_binary_accuracy: 0.8623\n",
      "Epoch 9/10\n",
      "153/153 [==============================] - 79s 519ms/step - loss: 0.2228 - binary_accuracy: 0.9897 - val_loss: 0.3734 - val_binary_accuracy: 0.8623\n",
      "Epoch 10/10\n",
      "153/153 [==============================] - 81s 532ms/step - loss: 0.1950 - binary_accuracy: 0.9910 - val_loss: 0.3635 - val_binary_accuracy: 0.8623\n"
     ]
    },
    {
     "data": {
      "text/plain": [
       "<tensorflow.python.keras.callbacks.History at 0x7f8ffa6ca430>"
      ]
     },
     "execution_count": 11,
     "metadata": {},
     "output_type": "execute_result"
    }
   ],
   "source": [
    "model.fit(train_array, intro_extr, validation_data=(val_array, intro_extr_val), verbose=1, epochs=10)"
   ]
  },
  {
   "cell_type": "code",
   "execution_count": 12,
   "metadata": {},
   "outputs": [
    {
     "name": "stdout",
     "output_type": "stream",
     "text": [
      "68/68 [==============================] - 0s 6ms/step - loss: 0.3922 - binary_accuracy: 0.8354\n"
     ]
    },
    {
     "data": {
      "text/plain": [
       "[0.39215466380119324, 0.8354080319404602]"
      ]
     },
     "execution_count": 12,
     "metadata": {},
     "output_type": "execute_result"
    }
   ],
   "source": [
    "intro_extr= np.array(test['introv_extrov'])\n",
    "test_array= np.array(test['cleaned_text'])\n",
    "\n",
    "model.evaluate(test_array, intro_extr, verbose=1)"
   ]
  },
  {
   "cell_type": "markdown",
   "metadata": {},
   "source": [
    "#### Intuition vs Sensing"
   ]
  },
  {
   "cell_type": "code",
   "execution_count": 13,
   "metadata": {},
   "outputs": [],
   "source": [
    "intuit_sens= np.array(train['intuit_sensin'])\n",
    "intuit_sens_val= np.array(val['intuit_sensin'])\n",
    "intuit_sens_test=np.array(test['intuit_sensin'])"
   ]
  },
  {
   "cell_type": "code",
   "execution_count": 14,
   "metadata": {},
   "outputs": [
    {
     "name": "stdout",
     "output_type": "stream",
     "text": [
      "Epoch 1/10\n",
      "153/153 [==============================] - 83s 541ms/step - loss: 0.4184 - binary_accuracy: 0.8448 - val_loss: 0.4074 - val_binary_accuracy: 0.8611\n",
      "Epoch 2/10\n",
      "153/153 [==============================] - 82s 537ms/step - loss: 0.3957 - binary_accuracy: 0.8664 - val_loss: 0.4050 - val_binary_accuracy: 0.8611\n",
      "Epoch 3/10\n",
      "153/153 [==============================] - 81s 531ms/step - loss: 0.3942 - binary_accuracy: 0.8662 - val_loss: 0.4038 - val_binary_accuracy: 0.8611\n",
      "Epoch 4/10\n",
      "153/153 [==============================] - 81s 529ms/step - loss: 0.3931 - binary_accuracy: 0.8666 - val_loss: 0.4035 - val_binary_accuracy: 0.8605\n",
      "Epoch 5/10\n",
      "153/153 [==============================] - 83s 540ms/step - loss: 0.3927 - binary_accuracy: 0.8668 - val_loss: 0.4031 - val_binary_accuracy: 0.8611\n",
      "Epoch 6/10\n",
      "153/153 [==============================] - 83s 539ms/step - loss: 0.3925 - binary_accuracy: 0.8668 - val_loss: 0.4030 - val_binary_accuracy: 0.8611\n",
      "Epoch 7/10\n",
      "153/153 [==============================] - 82s 538ms/step - loss: 0.3924 - binary_accuracy: 0.8668 - val_loss: 0.4029 - val_binary_accuracy: 0.8611\n",
      "Epoch 8/10\n",
      "153/153 [==============================] - 82s 534ms/step - loss: 0.3924 - binary_accuracy: 0.8668 - val_loss: 0.4029 - val_binary_accuracy: 0.8611\n",
      "Epoch 9/10\n",
      "153/153 [==============================] - 80s 525ms/step - loss: 0.3923 - binary_accuracy: 0.8670 - val_loss: 0.4029 - val_binary_accuracy: 0.8611\n",
      "Epoch 10/10\n",
      "153/153 [==============================] - 84s 552ms/step - loss: 0.3920 - binary_accuracy: 0.8672 - val_loss: 0.4029 - val_binary_accuracy: 0.8611\n"
     ]
    },
    {
     "data": {
      "text/plain": [
       "<tensorflow.python.keras.callbacks.History at 0x7f8f9653e0d0>"
      ]
     },
     "execution_count": 14,
     "metadata": {},
     "output_type": "execute_result"
    }
   ],
   "source": [
    "model.fit(train_array, intuit_sens, validation_data=(val_array, intuit_sens_val), verbose=1, epochs=10)"
   ]
  },
  {
   "cell_type": "code",
   "execution_count": 15,
   "metadata": {},
   "outputs": [
    {
     "name": "stdout",
     "output_type": "stream",
     "text": [
      "68/68 [==============================] - 0s 6ms/step - loss: 0.4194 - binary_accuracy: 0.8525\n"
     ]
    },
    {
     "data": {
      "text/plain": [
       "[0.4194318354129791, 0.8524665832519531]"
      ]
     },
     "execution_count": 15,
     "metadata": {},
     "output_type": "execute_result"
    }
   ],
   "source": [
    "model.evaluate(test_array, intuit_sens_test, verbose=1)"
   ]
  },
  {
   "cell_type": "markdown",
   "metadata": {},
   "source": [
    "#### Thinking vs Feeling"
   ]
  },
  {
   "cell_type": "code",
   "execution_count": 16,
   "metadata": {},
   "outputs": [],
   "source": [
    "think_feel= np.array(train['thinkin_feelin'])\n",
    "think_feel_val= np.array(val['thinkin_feelin'])\n",
    "think_feel_test=np.array(test['thinkin_feelin'])"
   ]
  },
  {
   "cell_type": "code",
   "execution_count": 17,
   "metadata": {},
   "outputs": [
    {
     "name": "stdout",
     "output_type": "stream",
     "text": [
      "Epoch 1/10\n",
      "153/153 [==============================] - 82s 538ms/step - loss: 0.9902 - binary_accuracy: 0.4526 - val_loss: 0.8570 - val_binary_accuracy: 0.4579\n",
      "Epoch 2/10\n",
      "153/153 [==============================] - 81s 527ms/step - loss: 0.8027 - binary_accuracy: 0.4534 - val_loss: 0.7558 - val_binary_accuracy: 0.4567\n",
      "Epoch 3/10\n",
      "153/153 [==============================] - 81s 529ms/step - loss: 0.7329 - binary_accuracy: 0.5327 - val_loss: 0.7157 - val_binary_accuracy: 0.5421\n",
      "Epoch 4/10\n",
      "153/153 [==============================] - 81s 528ms/step - loss: 0.7019 - binary_accuracy: 0.5468 - val_loss: 0.6941 - val_binary_accuracy: 0.5421\n",
      "Epoch 5/10\n",
      "153/153 [==============================] - 81s 529ms/step - loss: 0.6767 - binary_accuracy: 0.5468 - val_loss: 0.6841 - val_binary_accuracy: 0.5421\n",
      "Epoch 6/10\n",
      "153/153 [==============================] - 81s 531ms/step - loss: 0.6466 - binary_accuracy: 0.5468 - val_loss: 0.6298 - val_binary_accuracy: 0.5421\n",
      "Epoch 7/10\n",
      "153/153 [==============================] - 83s 545ms/step - loss: 0.5897 - binary_accuracy: 0.5468 - val_loss: 0.5573 - val_binary_accuracy: 0.5421\n",
      "Epoch 8/10\n",
      "153/153 [==============================] - 81s 531ms/step - loss: 0.4915 - binary_accuracy: 0.5468 - val_loss: 0.5120 - val_binary_accuracy: 0.5421\n",
      "Epoch 9/10\n",
      "153/153 [==============================] - 81s 526ms/step - loss: 0.4120 - binary_accuracy: 0.5786 - val_loss: 0.4814 - val_binary_accuracy: 0.7695\n",
      "Epoch 10/10\n",
      "153/153 [==============================] - 80s 526ms/step - loss: 0.3453 - binary_accuracy: 0.8719 - val_loss: 0.4695 - val_binary_accuracy: 0.8045\n"
     ]
    },
    {
     "data": {
      "text/plain": [
       "<tensorflow.python.keras.callbacks.History at 0x7f8f96511be0>"
      ]
     },
     "execution_count": 17,
     "metadata": {},
     "output_type": "execute_result"
    }
   ],
   "source": [
    "model.fit(train_array, think_feel, validation_data=(val_array, think_feel_val), verbose=1, epochs=10)"
   ]
  },
  {
   "cell_type": "code",
   "execution_count": 18,
   "metadata": {},
   "outputs": [
    {
     "name": "stdout",
     "output_type": "stream",
     "text": [
      "68/68 [==============================] - 0s 6ms/step - loss: 0.4707 - binary_accuracy: 0.8087\n"
     ]
    },
    {
     "data": {
      "text/plain": [
       "[0.47073987126350403, 0.8086676001548767]"
      ]
     },
     "execution_count": 18,
     "metadata": {},
     "output_type": "execute_result"
    }
   ],
   "source": [
    "model.evaluate(test_array, think_feel_test, verbose=1)"
   ]
  },
  {
   "cell_type": "markdown",
   "metadata": {},
   "source": [
    "#### Judging vs Perceiving"
   ]
  },
  {
   "cell_type": "code",
   "execution_count": 19,
   "metadata": {},
   "outputs": [],
   "source": [
    "judg_perceiv= np.array(train['judg_percev'])\n",
    "judg_perceiv_val= np.array(val['judg_percev'])\n",
    "judg_perceiv_test=np.array(test['judg_percev'])"
   ]
  },
  {
   "cell_type": "code",
   "execution_count": 20,
   "metadata": {},
   "outputs": [
    {
     "name": "stdout",
     "output_type": "stream",
     "text": [
      "Epoch 1/10\n",
      "153/153 [==============================] - 81s 531ms/step - loss: 0.7521 - binary_accuracy: 0.5259 - val_loss: 0.7191 - val_binary_accuracy: 0.6023\n",
      "Epoch 2/10\n",
      "153/153 [==============================] - 82s 533ms/step - loss: 0.6484 - binary_accuracy: 0.5987 - val_loss: 0.6815 - val_binary_accuracy: 0.6023\n",
      "Epoch 3/10\n",
      "153/153 [==============================] - 81s 529ms/step - loss: 0.6031 - binary_accuracy: 0.5987 - val_loss: 0.6736 - val_binary_accuracy: 0.6023\n",
      "Epoch 4/10\n",
      "153/153 [==============================] - 81s 530ms/step - loss: 0.5765 - binary_accuracy: 0.5987 - val_loss: 0.6570 - val_binary_accuracy: 0.6023\n",
      "Epoch 5/10\n",
      "153/153 [==============================] - 81s 531ms/step - loss: 0.5631 - binary_accuracy: 0.5987 - val_loss: 0.6558 - val_binary_accuracy: 0.6023\n",
      "Epoch 6/10\n",
      "153/153 [==============================] - 81s 530ms/step - loss: 0.5527 - binary_accuracy: 0.5987 - val_loss: 0.6526 - val_binary_accuracy: 0.6023\n",
      "Epoch 7/10\n",
      "153/153 [==============================] - 81s 531ms/step - loss: 0.5441 - binary_accuracy: 0.5987 - val_loss: 0.6559 - val_binary_accuracy: 0.6023\n",
      "Epoch 8/10\n",
      "153/153 [==============================] - 81s 531ms/step - loss: 0.5372 - binary_accuracy: 0.5987 - val_loss: 0.6502 - val_binary_accuracy: 0.6023\n",
      "Epoch 9/10\n",
      "153/153 [==============================] - 81s 532ms/step - loss: 0.5296 - binary_accuracy: 0.5987 - val_loss: 0.6460 - val_binary_accuracy: 0.6023\n",
      "Epoch 10/10\n",
      "153/153 [==============================] - 81s 530ms/step - loss: 0.5195 - binary_accuracy: 0.5987 - val_loss: 0.6537 - val_binary_accuracy: 0.6023\n"
     ]
    },
    {
     "data": {
      "text/plain": [
       "<tensorflow.python.keras.callbacks.History at 0x7f8f96539f40>"
      ]
     },
     "execution_count": 20,
     "metadata": {},
     "output_type": "execute_result"
    }
   ],
   "source": [
    "model.fit(train_array, judg_perceiv, validation_data=(val_array, judg_perceiv_val), verbose=1, epochs=10)"
   ]
  },
  {
   "cell_type": "code",
   "execution_count": 21,
   "metadata": {},
   "outputs": [
    {
     "name": "stdout",
     "output_type": "stream",
     "text": [
      "68/68 [==============================] - 0s 6ms/step - loss: 0.6695 - binary_accuracy: 0.6178\n"
     ]
    },
    {
     "data": {
      "text/plain": [
       "[0.6695128083229065, 0.6177962422370911]"
      ]
     },
     "execution_count": 21,
     "metadata": {},
     "output_type": "execute_result"
    }
   ],
   "source": [
    "model.evaluate(test_array, judg_perceiv_test, verbose=1)"
   ]
  },
  {
   "cell_type": "code",
   "execution_count": null,
   "metadata": {},
   "outputs": [],
   "source": []
  },
  {
   "cell_type": "code",
   "execution_count": null,
   "metadata": {},
   "outputs": [],
   "source": []
  }
 ],
 "metadata": {
  "kernelspec": {
   "display_name": "Python [conda env:ironhack_env]",
   "language": "python",
   "name": "conda-env-ironhack_env-py"
  },
  "language_info": {
   "codemirror_mode": {
    "name": "ipython",
    "version": 3
   },
   "file_extension": ".py",
   "mimetype": "text/x-python",
   "name": "python",
   "nbconvert_exporter": "python",
   "pygments_lexer": "ipython3",
   "version": "3.8.5"
  }
 },
 "nbformat": 4,
 "nbformat_minor": 4
}
