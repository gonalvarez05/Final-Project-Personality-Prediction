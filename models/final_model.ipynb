{
 "cells": [
  {
   "cell_type": "code",
   "execution_count": 2,
   "metadata": {},
   "outputs": [],
   "source": [
    "import pandas as pd\n",
    "from sklearn.model_selection import train_test_split\n",
    "import tensorflow as tf\n",
    "import tensorflow_hub as hub\n",
    "import tensorflow_text"
   ]
  },
  {
   "cell_type": "code",
   "execution_count": 3,
   "metadata": {},
   "outputs": [],
   "source": [
    "mbti= pd.read_csv('/Users/gonzaloalvarez/final_project/mbti_changed.csv')"
   ]
  },
  {
   "cell_type": "code",
   "execution_count": 4,
   "metadata": {},
   "outputs": [
    {
     "data": {
      "text/html": [
       "<div>\n",
       "<style scoped>\n",
       "    .dataframe tbody tr th:only-of-type {\n",
       "        vertical-align: middle;\n",
       "    }\n",
       "\n",
       "    .dataframe tbody tr th {\n",
       "        vertical-align: top;\n",
       "    }\n",
       "\n",
       "    .dataframe thead th {\n",
       "        text-align: right;\n",
       "    }\n",
       "</style>\n",
       "<table border=\"1\" class=\"dataframe\">\n",
       "  <thead>\n",
       "    <tr style=\"text-align: right;\">\n",
       "      <th></th>\n",
       "      <th>type</th>\n",
       "      <th>posts</th>\n",
       "      <th>type_index</th>\n",
       "      <th>cleaned_text</th>\n",
       "    </tr>\n",
       "  </thead>\n",
       "  <tbody>\n",
       "    <tr>\n",
       "      <th>0</th>\n",
       "      <td>INFJ</td>\n",
       "      <td>'http://www.youtube.com/watch?v=qsXHcwe3krw|||...</td>\n",
       "      <td>8</td>\n",
       "      <td>enfp  and  intj  moments  sportscenter  not  t...</td>\n",
       "    </tr>\n",
       "    <tr>\n",
       "      <th>1</th>\n",
       "      <td>ENTP</td>\n",
       "      <td>'I'm finding the lack of me in these posts ver...</td>\n",
       "      <td>3</td>\n",
       "      <td>im  finding  the  lack  of  me  in  these  pos...</td>\n",
       "    </tr>\n",
       "    <tr>\n",
       "      <th>2</th>\n",
       "      <td>INTP</td>\n",
       "      <td>'Good one  _____   https://www.youtube.com/wat...</td>\n",
       "      <td>11</td>\n",
       "      <td>good  one    of  course  to  which  i  say  i ...</td>\n",
       "    </tr>\n",
       "    <tr>\n",
       "      <th>3</th>\n",
       "      <td>INTJ</td>\n",
       "      <td>'Dear INTP,   I enjoyed our conversation the o...</td>\n",
       "      <td>10</td>\n",
       "      <td>dear  intp  i  enjoyed  our  conversation  the...</td>\n",
       "    </tr>\n",
       "    <tr>\n",
       "      <th>4</th>\n",
       "      <td>ENTJ</td>\n",
       "      <td>'You're fired.|||That's another silly misconce...</td>\n",
       "      <td>2</td>\n",
       "      <td>youre  fired  thats  another  silly  misconcep...</td>\n",
       "    </tr>\n",
       "  </tbody>\n",
       "</table>\n",
       "</div>"
      ],
      "text/plain": [
       "   type                                              posts  type_index  \\\n",
       "0  INFJ  'http://www.youtube.com/watch?v=qsXHcwe3krw|||...           8   \n",
       "1  ENTP  'I'm finding the lack of me in these posts ver...           3   \n",
       "2  INTP  'Good one  _____   https://www.youtube.com/wat...          11   \n",
       "3  INTJ  'Dear INTP,   I enjoyed our conversation the o...          10   \n",
       "4  ENTJ  'You're fired.|||That's another silly misconce...           2   \n",
       "\n",
       "                                        cleaned_text  \n",
       "0  enfp  and  intj  moments  sportscenter  not  t...  \n",
       "1  im  finding  the  lack  of  me  in  these  pos...  \n",
       "2  good  one    of  course  to  which  i  say  i ...  \n",
       "3  dear  intp  i  enjoyed  our  conversation  the...  \n",
       "4  youre  fired  thats  another  silly  misconcep...  "
      ]
     },
     "execution_count": 4,
     "metadata": {},
     "output_type": "execute_result"
    }
   ],
   "source": [
    "mbti.head()"
   ]
  },
  {
   "cell_type": "markdown",
   "metadata": {},
   "source": [
    "#### Split the dataset in train, validation and test"
   ]
  },
  {
   "cell_type": "code",
   "execution_count": 51,
   "metadata": {},
   "outputs": [
    {
     "name": "stdout",
     "output_type": "stream",
     "text": [
      "(4879, 4)\n",
      "(2169, 4)\n",
      "(1627, 4)\n"
     ]
    }
   ],
   "source": [
    "train,test= train_test_split(mbti)\n",
    "train, val= train_test_split(train)\n",
    "\n",
    "\n",
    "print(train.shape)\n",
    "print(test.shape)\n",
    "print(val.shape)"
   ]
  },
  {
   "cell_type": "markdown",
   "metadata": {},
   "source": [
    "#### Word embedding --> Text to arrays"
   ]
  },
  {
   "cell_type": "code",
   "execution_count": 52,
   "metadata": {},
   "outputs": [
    {
     "name": "stdout",
     "output_type": "stream",
     "text": [
      "WARNING:tensorflow:7 out of the last 7 calls to <function recreate_function.<locals>.restored_function_body at 0x7ff5ff4f70d0> triggered tf.function retracing. Tracing is expensive and the excessive number of tracings could be due to (1) creating @tf.function repeatedly in a loop, (2) passing tensors with different shapes, (3) passing Python objects instead of tensors. For (1), please define your @tf.function outside of the loop. For (2), @tf.function has experimental_relax_shapes=True option that relaxes argument shapes that can avoid unnecessary retracing. For (3), please refer to https://www.tensorflow.org/guide/function#controlling_retracing and https://www.tensorflow.org/api_docs/python/tf/function for  more details.\n"
     ]
    },
    {
     "name": "stderr",
     "output_type": "stream",
     "text": [
      "WARNING:tensorflow:7 out of the last 7 calls to <function recreate_function.<locals>.restored_function_body at 0x7ff5ff4f70d0> triggered tf.function retracing. Tracing is expensive and the excessive number of tracings could be due to (1) creating @tf.function repeatedly in a loop, (2) passing tensors with different shapes, (3) passing Python objects instead of tensors. For (1), please define your @tf.function outside of the loop. For (2), @tf.function has experimental_relax_shapes=True option that relaxes argument shapes that can avoid unnecessary retracing. For (3), please refer to https://www.tensorflow.org/guide/function#controlling_retracing and https://www.tensorflow.org/api_docs/python/tf/function for  more details.\n"
     ]
    },
    {
     "name": "stdout",
     "output_type": "stream",
     "text": [
      "WARNING:tensorflow:8 out of the last 8 calls to <function recreate_function.<locals>.restored_function_body at 0x7ff5ff4f2af0> triggered tf.function retracing. Tracing is expensive and the excessive number of tracings could be due to (1) creating @tf.function repeatedly in a loop, (2) passing tensors with different shapes, (3) passing Python objects instead of tensors. For (1), please define your @tf.function outside of the loop. For (2), @tf.function has experimental_relax_shapes=True option that relaxes argument shapes that can avoid unnecessary retracing. For (3), please refer to https://www.tensorflow.org/guide/function#controlling_retracing and https://www.tensorflow.org/api_docs/python/tf/function for  more details.\n"
     ]
    },
    {
     "name": "stderr",
     "output_type": "stream",
     "text": [
      "WARNING:tensorflow:8 out of the last 8 calls to <function recreate_function.<locals>.restored_function_body at 0x7ff5ff4f2af0> triggered tf.function retracing. Tracing is expensive and the excessive number of tracings could be due to (1) creating @tf.function repeatedly in a loop, (2) passing tensors with different shapes, (3) passing Python objects instead of tensors. For (1), please define your @tf.function outside of the loop. For (2), @tf.function has experimental_relax_shapes=True option that relaxes argument shapes that can avoid unnecessary retracing. For (3), please refer to https://www.tensorflow.org/guide/function#controlling_retracing and https://www.tensorflow.org/api_docs/python/tf/function for  more details.\n"
     ]
    },
    {
     "name": "stdout",
     "output_type": "stream",
     "text": [
      "WARNING:tensorflow:9 out of the last 9 calls to <function recreate_function.<locals>.restored_function_body at 0x7ff623e19f70> triggered tf.function retracing. Tracing is expensive and the excessive number of tracings could be due to (1) creating @tf.function repeatedly in a loop, (2) passing tensors with different shapes, (3) passing Python objects instead of tensors. For (1), please define your @tf.function outside of the loop. For (2), @tf.function has experimental_relax_shapes=True option that relaxes argument shapes that can avoid unnecessary retracing. For (3), please refer to https://www.tensorflow.org/guide/function#controlling_retracing and https://www.tensorflow.org/api_docs/python/tf/function for  more details.\n"
     ]
    },
    {
     "name": "stderr",
     "output_type": "stream",
     "text": [
      "WARNING:tensorflow:9 out of the last 9 calls to <function recreate_function.<locals>.restored_function_body at 0x7ff623e19f70> triggered tf.function retracing. Tracing is expensive and the excessive number of tracings could be due to (1) creating @tf.function repeatedly in a loop, (2) passing tensors with different shapes, (3) passing Python objects instead of tensors. For (1), please define your @tf.function outside of the loop. For (2), @tf.function has experimental_relax_shapes=True option that relaxes argument shapes that can avoid unnecessary retracing. For (3), please refer to https://www.tensorflow.org/guide/function#controlling_retracing and https://www.tensorflow.org/api_docs/python/tf/function for  more details.\n"
     ]
    },
    {
     "data": {
      "text/plain": [
       "<tf.Tensor: shape=(3, 50), dtype=float32, numpy=\n",
       "array([[ 1.2631984 , -0.07429716, -1.4959615 ,  1.8658408 ,  0.4650373 ,\n",
       "        -0.9525655 ,  1.0888932 , -0.28460523, -2.4665818 ,  2.6978812 ,\n",
       "         0.15715301,  0.81745684, -0.03829916, -0.11094519, -1.2923864 ,\n",
       "        -0.40714106, -1.1507365 ,  0.2363303 ,  1.4926238 , -2.779092  ,\n",
       "         0.21276763,  0.2932151 ,  3.0795908 , -0.05187522, -1.9826746 ,\n",
       "         1.386021  , -4.4261975 ,  0.12340773,  0.7434004 , -1.6217937 ,\n",
       "        -1.2666503 ,  1.9982475 ,  2.9582098 , -1.5144217 , -2.3716185 ,\n",
       "         0.44746035,  0.8203376 , -1.388145  ,  0.6298591 , -1.7929841 ,\n",
       "         1.7380686 ,  1.7233695 , -0.74018145,  1.1994958 ,  0.11210676,\n",
       "        -0.6749734 , -1.6701362 , -1.6129097 ,  1.0539674 ,  0.6284371 ],\n",
       "       [ 1.6607497 , -0.2924295 , -1.0666468 ,  1.9289665 ,  0.7001575 ,\n",
       "        -0.5796863 ,  1.0429944 , -0.30806702, -2.3338497 ,  2.226193  ,\n",
       "         0.14744076,  1.1733816 , -0.25746828,  0.62752044, -1.1856852 ,\n",
       "        -0.7236397 , -0.7564591 ,  0.30041707,  1.1424828 , -2.7913623 ,\n",
       "        -0.35898003,  0.11009923,  2.3923745 ,  0.15253218, -1.475072  ,\n",
       "         1.2061576 , -4.1792    ,  0.20217092,  1.0512893 , -1.5774643 ,\n",
       "        -0.8861035 ,  1.5872271 ,  2.219828  , -1.4432077 , -2.450476  ,\n",
       "         0.42583948,  0.5217523 , -0.8492481 ,  0.64829254, -1.9620845 ,\n",
       "         1.5812757 ,  1.3501246 , -0.51460093,  1.0950687 , -0.45182556,\n",
       "        -0.36140794, -1.8809431 , -1.1817153 ,  1.293778  ,  0.71633404],\n",
       "       [ 1.8048717 ,  0.35058394, -1.120799  ,  2.309842  ,  0.08795898,\n",
       "        -1.0725828 ,  1.1949972 , -0.24766299, -2.5707786 ,  2.6466084 ,\n",
       "         0.1830197 ,  1.457947  , -0.11988995, -0.21281074, -1.7186465 ,\n",
       "        -0.3928794 , -1.5609521 ,  0.677501  ,  1.0060867 , -3.1202226 ,\n",
       "        -0.17516725,  0.2633178 ,  2.9903374 ,  0.05294747, -1.702244  ,\n",
       "         1.7401848 , -4.905057  ,  0.19667163,  0.6282108 , -2.3216968 ,\n",
       "        -2.0815365 ,  1.3726324 ,  2.665827  , -1.5083687 , -2.4865875 ,\n",
       "         1.0586721 ,  0.9986926 , -1.7378707 ,  0.46321073, -1.9101267 ,\n",
       "         1.6770799 ,  2.1484807 , -0.32931486,  0.9886361 , -0.7014345 ,\n",
       "        -0.3905696 , -2.0074017 , -1.485849  ,  0.8671154 ,  0.49232727]],\n",
       "      dtype=float32)>"
      ]
     },
     "execution_count": 52,
     "metadata": {},
     "output_type": "execute_result"
    }
   ],
   "source": [
    "embed= hub.load(\"https://tfhub.dev/google/nnlm-en-dim50/2\")\n",
    "hub_layer=hub.KerasLayer(embed, input_shape=[], dtype=tf.string, trainable=True)\n",
    "hub_layer(train.cleaned_text[:3])"
   ]
  },
  {
   "cell_type": "markdown",
   "metadata": {},
   "source": [
    "#### Create the model"
   ]
  },
  {
   "cell_type": "code",
   "execution_count": 53,
   "metadata": {},
   "outputs": [
    {
     "name": "stdout",
     "output_type": "stream",
     "text": [
      "Model: \"sequential_3\"\n",
      "_________________________________________________________________\n",
      "Layer (type)                 Output Shape              Param #   \n",
      "=================================================================\n",
      "keras_layer_2 (KerasLayer)   (None, 50)                48190600  \n",
      "_________________________________________________________________\n",
      "dense_6 (Dense)              (None, 16)                816       \n",
      "_________________________________________________________________\n",
      "dense_7 (Dense)              (None, 16)                272       \n",
      "=================================================================\n",
      "Total params: 48,191,688\n",
      "Trainable params: 48,191,688\n",
      "Non-trainable params: 0\n",
      "_________________________________________________________________\n"
     ]
    }
   ],
   "source": [
    "model=tf.keras.Sequential()\n",
    "model.add(hub_layer)\n",
    "model.add(tf.keras.layers.Dense(16, activation='softmax'))\n",
    "model.add(tf.keras.layers.Dense(16))\n",
    "model.summary()"
   ]
  },
  {
   "cell_type": "code",
   "execution_count": 54,
   "metadata": {},
   "outputs": [],
   "source": [
    "model.compile(optimizer='adam', \n",
    "             loss= tf.keras.losses.CategoricalCrossentropy(from_logits=True),\n",
    "             metrics=tf.metrics.CategoricalAccuracy())"
   ]
  },
  {
   "cell_type": "code",
   "execution_count": 55,
   "metadata": {},
   "outputs": [],
   "source": [
    "one_hot_labels = tf.keras.utils.to_categorical(train.type_index.values, num_classes=16)\n",
    "val_labels=tf.keras.utils.to_categorical(val.type_index.values, num_classes=16)"
   ]
  },
  {
   "cell_type": "code",
   "execution_count": 56,
   "metadata": {},
   "outputs": [],
   "source": [
    "train_array= np.array(train['cleaned_text'])\n",
    "val_array= np.array(val['cleaned_text'])"
   ]
  },
  {
   "cell_type": "code",
   "execution_count": 68,
   "metadata": {},
   "outputs": [
    {
     "name": "stdout",
     "output_type": "stream",
     "text": [
      "Epoch 1/15\n",
      "153/153 [==============================] - 86s 559ms/step - loss: 1.3060 - categorical_accuracy: 0.4831 - val_loss: 2.0274 - val_categorical_accuracy: 0.3534\n",
      "Epoch 2/15\n",
      "153/153 [==============================] - 84s 549ms/step - loss: 1.2923 - categorical_accuracy: 0.4833 - val_loss: 1.9607 - val_categorical_accuracy: 0.3669\n",
      "Epoch 3/15\n",
      "153/153 [==============================] - 84s 547ms/step - loss: 1.2812 - categorical_accuracy: 0.4831 - val_loss: 1.9970 - val_categorical_accuracy: 0.3602\n",
      "Epoch 4/15\n",
      "153/153 [==============================] - 83s 544ms/step - loss: 1.2723 - categorical_accuracy: 0.4833 - val_loss: 1.9987 - val_categorical_accuracy: 0.3651\n",
      "Epoch 5/15\n",
      "153/153 [==============================] - 83s 540ms/step - loss: 1.2622 - categorical_accuracy: 0.4864 - val_loss: 1.9957 - val_categorical_accuracy: 0.3534\n",
      "Epoch 6/15\n",
      "153/153 [==============================] - 82s 539ms/step - loss: 1.2511 - categorical_accuracy: 0.4868 - val_loss: 2.0135 - val_categorical_accuracy: 0.3632\n",
      "Epoch 7/15\n",
      "153/153 [==============================] - 82s 537ms/step - loss: 1.2409 - categorical_accuracy: 0.4931 - val_loss: 2.0219 - val_categorical_accuracy: 0.3596\n",
      "Epoch 8/15\n",
      "153/153 [==============================] - 82s 537ms/step - loss: 1.2316 - categorical_accuracy: 0.4911 - val_loss: 2.0244 - val_categorical_accuracy: 0.3614\n",
      "Epoch 9/15\n",
      "153/153 [==============================] - 82s 537ms/step - loss: 1.2261 - categorical_accuracy: 0.4946 - val_loss: 2.0747 - val_categorical_accuracy: 0.3583\n",
      "Epoch 10/15\n",
      "153/153 [==============================] - 82s 539ms/step - loss: 1.2150 - categorical_accuracy: 0.4985 - val_loss: 2.0349 - val_categorical_accuracy: 0.3620\n",
      "Epoch 11/15\n",
      "153/153 [==============================] - 82s 539ms/step - loss: 1.2065 - categorical_accuracy: 0.4995 - val_loss: 2.0656 - val_categorical_accuracy: 0.3639\n",
      "Epoch 12/15\n",
      "153/153 [==============================] - 84s 546ms/step - loss: 1.1909 - categorical_accuracy: 0.5075 - val_loss: 2.0652 - val_categorical_accuracy: 0.3602\n",
      "Epoch 13/15\n",
      "153/153 [==============================] - 84s 546ms/step - loss: 1.1715 - categorical_accuracy: 0.5183 - val_loss: 2.1009 - val_categorical_accuracy: 0.3516\n",
      "Epoch 14/15\n",
      "153/153 [==============================] - 82s 537ms/step - loss: 1.1427 - categorical_accuracy: 0.5436 - val_loss: 2.0689 - val_categorical_accuracy: 0.3602\n",
      "Epoch 15/15\n",
      "153/153 [==============================] - 82s 536ms/step - loss: 1.1110 - categorical_accuracy: 0.5665 - val_loss: 2.0353 - val_categorical_accuracy: 0.3596\n"
     ]
    },
    {
     "data": {
      "text/plain": [
       "<tensorflow.python.keras.callbacks.History at 0x7ff5cf5326d0>"
      ]
     },
     "execution_count": 68,
     "metadata": {},
     "output_type": "execute_result"
    }
   ],
   "source": [
    "model.fit(train_array, one_hot_labels, verbose=1, validation_data=(val_array, val_labels), epochs=15)"
   ]
  },
  {
   "cell_type": "code",
   "execution_count": 69,
   "metadata": {},
   "outputs": [],
   "source": [
    "test_hot_labels = tf.keras.utils.to_categorical(test.type_index.values, num_classes=16)\n",
    "test_array= np.array(test['cleaned_text'])"
   ]
  },
  {
   "cell_type": "code",
   "execution_count": 70,
   "metadata": {},
   "outputs": [
    {
     "name": "stdout",
     "output_type": "stream",
     "text": [
      "68/68 [==============================] - 0s 6ms/step - loss: 2.0115 - categorical_accuracy: 0.3757\n"
     ]
    }
   ],
   "source": [
    "results= model.evaluate(test_array, test_hot_labels, verbose=1)\n"
   ]
  },
  {
   "cell_type": "code",
   "execution_count": 71,
   "metadata": {},
   "outputs": [
    {
     "data": {
      "text/plain": [
       "[2.011539936065674, 0.3757492005825043]"
      ]
     },
     "execution_count": 71,
     "metadata": {},
     "output_type": "execute_result"
    }
   ],
   "source": [
    "results"
   ]
  },
  {
   "cell_type": "code",
   "execution_count": null,
   "metadata": {},
   "outputs": [],
   "source": []
  },
  {
   "cell_type": "code",
   "execution_count": null,
   "metadata": {},
   "outputs": [],
   "source": []
  }
 ],
 "metadata": {
  "kernelspec": {
   "display_name": "Python [conda env:ironhack_env]",
   "language": "python",
   "name": "conda-env-ironhack_env-py"
  },
  "language_info": {
   "codemirror_mode": {
    "name": "ipython",
    "version": 3
   },
   "file_extension": ".py",
   "mimetype": "text/x-python",
   "name": "python",
   "nbconvert_exporter": "python",
   "pygments_lexer": "ipython3",
   "version": "3.8.5"
  }
 },
 "nbformat": 4,
 "nbformat_minor": 4
}
